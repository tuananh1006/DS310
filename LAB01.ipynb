{
  "nbformat": 4,
  "nbformat_minor": 0,
  "metadata": {
    "colab": {
      "provenance": [],
      "authorship_tag": "ABX9TyNToMTcKfxEJAhqNVjA7VPX",
      "include_colab_link": true
    },
    "kernelspec": {
      "name": "python3",
      "display_name": "Python 3"
    },
    "language_info": {
      "name": "python"
    }
  },
  "cells": [
    {
      "cell_type": "markdown",
      "metadata": {
        "id": "view-in-github",
        "colab_type": "text"
      },
      "source": [
        "<a href=\"https://colab.research.google.com/github/tuananh1006/DS310/blob/main/LAB01.ipynb\" target=\"_parent\"><img src=\"https://colab.research.google.com/assets/colab-badge.svg\" alt=\"Open In Colab\"/></a>"
      ]
    },
    {
      "cell_type": "markdown",
      "source": [
        "Name:Nguyen Khanh Tuan Anh"
      ],
      "metadata": {
        "id": "hTWedNzNOodw"
      }
    },
    {
      "cell_type": "markdown",
      "source": [
        "## Apply formular\n"
      ],
      "metadata": {
        "id": "5SuNCi__zrW7"
      }
    },
    {
      "cell_type": "markdown",
      "source": [
        "**Formular:**\n",
        "P(Positive|w)=P(w|Positive).P(Positive)\n",
        "\n",
        "\n",
        "**Step:**\n",
        "1. P(Positive)=num_positive/num_train\n",
        "2. P(w|Positive)=P(w,Positive)/P(Positive)"
      ],
      "metadata": {
        "id": "SusyYnvoOi02"
      }
    },
    {
      "cell_type": "code",
      "execution_count": 115,
      "metadata": {
        "id": "-UvoktOQvByJ"
      },
      "outputs": [],
      "source": [
        "train = [\n",
        " [\"just plain boring\", \"-\"],\n",
        " [\"entirely predictable and lacks energy\", \"-\"],\n",
        " [\"no surprises and very few laughs\", \"-\"],\n",
        " [\"very powerful\", \"+\"],\n",
        " [\"the most fun film of the summer\", \"+\"]\n",
        "]\n",
        "test = \"predictable with no fun\"\n"
      ]
    },
    {
      "cell_type": "code",
      "source": [
        "voc_pos=[]\n",
        "voc_neg=[]\n",
        "y_train=[]"
      ],
      "metadata": {
        "id": "hUh9n828vFj9"
      },
      "execution_count": 116,
      "outputs": []
    },
    {
      "cell_type": "code",
      "source": [
        "for s in train:\n",
        "  if s[1]==\"+\":\n",
        "    voc_pos+=s[0].split()\n",
        "  else:\n",
        "    voc_neg+=s[0].split()\n",
        "  y_train.append(s[1])\n",
        "voc=voc_pos+voc_neg\n",
        "voc=set(voc)"
      ],
      "metadata": {
        "id": "hwbXEDJ9wRX6"
      },
      "execution_count": 117,
      "outputs": []
    },
    {
      "cell_type": "code",
      "source": [
        "print(len(voc))\n",
        "print(len(voc_pos))\n",
        "print(len(voc_neg))"
      ],
      "metadata": {
        "colab": {
          "base_uri": "https://localhost:8080/"
        },
        "id": "_-xAGlG-ww-S",
        "outputId": "ebe1b4cf-b0ea-4239-ba93-83088d9534ec"
      },
      "execution_count": 118,
      "outputs": [
        {
          "output_type": "stream",
          "name": "stdout",
          "text": [
            "20\n",
            "9\n",
            "14\n"
          ]
        }
      ]
    },
    {
      "cell_type": "code",
      "source": [
        "#Probability prior for each class\n",
        "p_pos=y_train.count('+')/len(y_train)\n",
        "p_neg=y_train.count('-')/len(y_train)\n",
        "p_test_pos=p_pos\n",
        "p_test_neg=p_neg\n",
        "for w in test.split():\n",
        "  if w =='with':\n",
        "    continue\n",
        "\n",
        "  p_pos_w=(voc_pos.count(w)+1)/(len(voc_pos)+len(voc))\n",
        "  p_neg_w=(voc_neg.count(w)+1)/(len(voc_neg)+len(voc))\n",
        "  p_test_pos=p_test_pos*p_pos_w\n",
        "  p_test_neg=p_test_neg*p_neg_w\n",
        "print(f'Positive:{p_test_pos}')\n",
        "print(f'Negative:{p_test_neg}')\n",
        "print(f'Label:{\"Positive\" if p_test_pos > p_test_neg else \"Negative\" }')"
      ],
      "metadata": {
        "colab": {
          "base_uri": "https://localhost:8080/"
        },
        "id": "5JRZFQxrxXbF",
        "outputId": "670bea14-2f0b-4ea4-95eb-49a6afeb7629"
      },
      "execution_count": 119,
      "outputs": [
        {
          "output_type": "stream",
          "name": "stdout",
          "text": [
            "Positive:3.2801672885317154e-05\n",
            "Negative:6.106248727864848e-05\n",
            "Label:Negative\n"
          ]
        }
      ]
    },
    {
      "cell_type": "markdown",
      "source": [
        "## Use sklearn"
      ],
      "metadata": {
        "id": "8xJv_tzE9fHy"
      }
    },
    {
      "cell_type": "code",
      "source": [
        "from sklearn.feature_extraction.text import CountVectorizer\n",
        "import numpy as np\n",
        "\n"
      ],
      "metadata": {
        "id": "DzRt_S085590"
      },
      "execution_count": 120,
      "outputs": []
    },
    {
      "cell_type": "code",
      "source": [
        "X_train=[]\n",
        "y_train=[]\n",
        "for s in train:\n",
        "  X_train.append(s[0])\n",
        "  y_train.append(s[1])\n",
        "X_test=[test]"
      ],
      "metadata": {
        "id": "CWADrZmZ6F7R"
      },
      "execution_count": 121,
      "outputs": []
    },
    {
      "cell_type": "code",
      "source": [
        "X_train"
      ],
      "metadata": {
        "colab": {
          "base_uri": "https://localhost:8080/"
        },
        "id": "smvLsmYV-fzg",
        "outputId": "15f6b289-79cd-45cb-ed3b-fd43d301152b"
      },
      "execution_count": 122,
      "outputs": [
        {
          "output_type": "execute_result",
          "data": {
            "text/plain": [
              "['just plain boring',\n",
              " 'entirely predictable and lacks energy',\n",
              " 'no surprises and very few laughs',\n",
              " 'very powerful',\n",
              " 'the most fun film of the summer']"
            ]
          },
          "metadata": {},
          "execution_count": 122
        }
      ]
    },
    {
      "cell_type": "code",
      "source": [
        "Count_vectorizer = CountVectorizer()\n",
        "X_train_counts = Count_vectorizer.fit_transform(X_train)\n",
        "X_test_counts = Count_vectorizer.transform(X_test)"
      ],
      "metadata": {
        "id": "QWWnAeIW-hCY"
      },
      "execution_count": 123,
      "outputs": []
    },
    {
      "cell_type": "code",
      "source": [
        "from sklearn.preprocessing import LabelEncoder\n",
        "le = LabelEncoder()\n",
        "le.fit(y_train)\n",
        "y_train_encoded = le.transform(y_train)"
      ],
      "metadata": {
        "id": "aQSi-MXJ-jlf"
      },
      "execution_count": 124,
      "outputs": []
    },
    {
      "cell_type": "code",
      "source": [
        "from sklearn.naive_bayes import MultinomialNB\n",
        "clf = MultinomialNB()\n",
        "clf.fit(X_train_counts, y_train_encoded)"
      ],
      "metadata": {
        "colab": {
          "base_uri": "https://localhost:8080/",
          "height": 75
        },
        "id": "guWWhLUwExE4",
        "outputId": "012c7bb6-c714-4330-90de-ac7ad3f5a1b3"
      },
      "execution_count": 125,
      "outputs": [
        {
          "output_type": "execute_result",
          "data": {
            "text/plain": [
              "MultinomialNB()"
            ],
            "text/html": [
              "<style>#sk-container-id-6 {color: black;background-color: white;}#sk-container-id-6 pre{padding: 0;}#sk-container-id-6 div.sk-toggleable {background-color: white;}#sk-container-id-6 label.sk-toggleable__label {cursor: pointer;display: block;width: 100%;margin-bottom: 0;padding: 0.3em;box-sizing: border-box;text-align: center;}#sk-container-id-6 label.sk-toggleable__label-arrow:before {content: \"▸\";float: left;margin-right: 0.25em;color: #696969;}#sk-container-id-6 label.sk-toggleable__label-arrow:hover:before {color: black;}#sk-container-id-6 div.sk-estimator:hover label.sk-toggleable__label-arrow:before {color: black;}#sk-container-id-6 div.sk-toggleable__content {max-height: 0;max-width: 0;overflow: hidden;text-align: left;background-color: #f0f8ff;}#sk-container-id-6 div.sk-toggleable__content pre {margin: 0.2em;color: black;border-radius: 0.25em;background-color: #f0f8ff;}#sk-container-id-6 input.sk-toggleable__control:checked~div.sk-toggleable__content {max-height: 200px;max-width: 100%;overflow: auto;}#sk-container-id-6 input.sk-toggleable__control:checked~label.sk-toggleable__label-arrow:before {content: \"▾\";}#sk-container-id-6 div.sk-estimator input.sk-toggleable__control:checked~label.sk-toggleable__label {background-color: #d4ebff;}#sk-container-id-6 div.sk-label input.sk-toggleable__control:checked~label.sk-toggleable__label {background-color: #d4ebff;}#sk-container-id-6 input.sk-hidden--visually {border: 0;clip: rect(1px 1px 1px 1px);clip: rect(1px, 1px, 1px, 1px);height: 1px;margin: -1px;overflow: hidden;padding: 0;position: absolute;width: 1px;}#sk-container-id-6 div.sk-estimator {font-family: monospace;background-color: #f0f8ff;border: 1px dotted black;border-radius: 0.25em;box-sizing: border-box;margin-bottom: 0.5em;}#sk-container-id-6 div.sk-estimator:hover {background-color: #d4ebff;}#sk-container-id-6 div.sk-parallel-item::after {content: \"\";width: 100%;border-bottom: 1px solid gray;flex-grow: 1;}#sk-container-id-6 div.sk-label:hover label.sk-toggleable__label {background-color: #d4ebff;}#sk-container-id-6 div.sk-serial::before {content: \"\";position: absolute;border-left: 1px solid gray;box-sizing: border-box;top: 0;bottom: 0;left: 50%;z-index: 0;}#sk-container-id-6 div.sk-serial {display: flex;flex-direction: column;align-items: center;background-color: white;padding-right: 0.2em;padding-left: 0.2em;position: relative;}#sk-container-id-6 div.sk-item {position: relative;z-index: 1;}#sk-container-id-6 div.sk-parallel {display: flex;align-items: stretch;justify-content: center;background-color: white;position: relative;}#sk-container-id-6 div.sk-item::before, #sk-container-id-6 div.sk-parallel-item::before {content: \"\";position: absolute;border-left: 1px solid gray;box-sizing: border-box;top: 0;bottom: 0;left: 50%;z-index: -1;}#sk-container-id-6 div.sk-parallel-item {display: flex;flex-direction: column;z-index: 1;position: relative;background-color: white;}#sk-container-id-6 div.sk-parallel-item:first-child::after {align-self: flex-end;width: 50%;}#sk-container-id-6 div.sk-parallel-item:last-child::after {align-self: flex-start;width: 50%;}#sk-container-id-6 div.sk-parallel-item:only-child::after {width: 0;}#sk-container-id-6 div.sk-dashed-wrapped {border: 1px dashed gray;margin: 0 0.4em 0.5em 0.4em;box-sizing: border-box;padding-bottom: 0.4em;background-color: white;}#sk-container-id-6 div.sk-label label {font-family: monospace;font-weight: bold;display: inline-block;line-height: 1.2em;}#sk-container-id-6 div.sk-label-container {text-align: center;}#sk-container-id-6 div.sk-container {/* jupyter's `normalize.less` sets `[hidden] { display: none; }` but bootstrap.min.css set `[hidden] { display: none !important; }` so we also need the `!important` here to be able to override the default hidden behavior on the sphinx rendered scikit-learn.org. See: https://github.com/scikit-learn/scikit-learn/issues/21755 */display: inline-block !important;position: relative;}#sk-container-id-6 div.sk-text-repr-fallback {display: none;}</style><div id=\"sk-container-id-6\" class=\"sk-top-container\"><div class=\"sk-text-repr-fallback\"><pre>MultinomialNB()</pre><b>In a Jupyter environment, please rerun this cell to show the HTML representation or trust the notebook. <br />On GitHub, the HTML representation is unable to render, please try loading this page with nbviewer.org.</b></div><div class=\"sk-container\" hidden><div class=\"sk-item\"><div class=\"sk-estimator sk-toggleable\"><input class=\"sk-toggleable__control sk-hidden--visually\" id=\"sk-estimator-id-6\" type=\"checkbox\" checked><label for=\"sk-estimator-id-6\" class=\"sk-toggleable__label sk-toggleable__label-arrow\">MultinomialNB</label><div class=\"sk-toggleable__content\"><pre>MultinomialNB()</pre></div></div></div></div></div>"
            ]
          },
          "metadata": {},
          "execution_count": 125
        }
      ]
    },
    {
      "cell_type": "code",
      "source": [
        "clf.predict(X_test_counts)"
      ],
      "metadata": {
        "colab": {
          "base_uri": "https://localhost:8080/"
        },
        "id": "0KZ-Dqy_E2ag",
        "outputId": "5cf8631e-adbf-4817-a6b2-5dc2a2d69054"
      },
      "execution_count": 126,
      "outputs": [
        {
          "output_type": "execute_result",
          "data": {
            "text/plain": [
              "array([1])"
            ]
          },
          "metadata": {},
          "execution_count": 126
        }
      ]
    },
    {
      "cell_type": "code",
      "source": [
        "y_pred=clf.predict(X_test_counts)\n",
        "\n",
        "label_pred=le.inverse_transform(y_pred)[0]"
      ],
      "metadata": {
        "id": "-mn6p9KcE-al"
      },
      "execution_count": 134,
      "outputs": []
    },
    {
      "cell_type": "code",
      "source": [
        "print(f'Label:{label_pred}')"
      ],
      "metadata": {
        "colab": {
          "base_uri": "https://localhost:8080/"
        },
        "id": "Bvqk_BejGV_H",
        "outputId": "94d244f2-74c9-4f41-ac7f-07e8212e99a6"
      },
      "execution_count": 135,
      "outputs": [
        {
          "output_type": "stream",
          "name": "stdout",
          "text": [
            "Label:-\n"
          ]
        }
      ]
    },
    {
      "cell_type": "markdown",
      "source": [
        "## Homework"
      ],
      "metadata": {
        "id": "Suc1qJV9IKPZ"
      }
    },
    {
      "cell_type": "code",
      "source": [
        "train = [\n",
        " [\"sản_phẩm A rất tốt.\", \"+\"],\n",
        " [\"tôi không thích sản_phẩm A.\", \"-\"],\n",
        " [\"màu_sắc của A thật tốt.\", \"+\"],\n",
        " [\"sản_phẩm A thật kinh_khủng.\", \"-\"],\n",
        "]\n",
        "test = [\n",
        " \"sản_phẩm A khá tốt.\",\n",
        " \"màu_sắc quá kinh_khủng.\"\n",
        "]"
      ],
      "metadata": {
        "id": "yeXRqchdIYhZ"
      },
      "execution_count": 173,
      "outputs": []
    },
    {
      "cell_type": "code",
      "source": [
        "#Use formular\n",
        "voc=[]\n",
        "y_train=[]\n",
        "voc_pos=[]\n",
        "voc_neg=[]\n",
        "for s in train:\n",
        "  if s[1]=='+':\n",
        "    voc_pos+=s[0].split()\n",
        "  else:\n",
        "    voc_neg+=s[0].split()\n",
        "  y_train.append(s[1])\n",
        "voc=set(voc_pos).union(set(voc_neg))"
      ],
      "metadata": {
        "id": "4Tbee_-0IY-J"
      },
      "execution_count": 174,
      "outputs": []
    },
    {
      "cell_type": "code",
      "source": [
        "print(len(voc))\n",
        "print(len(voc_pos))\n",
        "print(len(voc_neg))\n",
        "print(len(y_train))"
      ],
      "metadata": {
        "colab": {
          "base_uri": "https://localhost:8080/"
        },
        "id": "4m-rwhbaJH56",
        "outputId": "6a7cd60c-f859-482c-a301-d710927cb644"
      },
      "execution_count": 175,
      "outputs": [
        {
          "output_type": "stream",
          "name": "stdout",
          "text": [
            "12\n",
            "9\n",
            "9\n",
            "4\n"
          ]
        }
      ]
    },
    {
      "cell_type": "code",
      "source": [
        "p_positive=y_train.count('+')/len(y_train)\n",
        "p_negative=y_train.count('-')/len(y_train)\n",
        "p_test_positive=[p_positive]*2\n",
        "p_test_negative=[p_negative]*2\n",
        "for i,subtest in enumerate(test):\n",
        "  for w in subtest.split():\n",
        "      p_test_positive[i]*=(voc_pos.count(w)+1)/(len(voc_pos)+len(voc))\n",
        "      p_test_negative[i]*=(voc_neg.count(w)+1)/(len(voc_neg)+len(voc))\n",
        ""
      ],
      "metadata": {
        "id": "xQ8yiIYIJmkF"
      },
      "execution_count": 176,
      "outputs": []
    },
    {
      "cell_type": "code",
      "source": [
        "for i in range(len(test)):\n",
        "  print(p_test_positive[i])\n",
        "  print(p_test_negative[i])\n",
        "  print(f'Label predicted of string {i}:{\"+\" if p_test_positive[i]>p_test_negative[i] else \"-\"}')"
      ],
      "metadata": {
        "colab": {
          "base_uri": "https://localhost:8080/"
        },
        "id": "s8RPWFMZKNA_",
        "outputId": "f893914f-5421-427e-fcc7-aeda9d744a89"
      },
      "execution_count": 177,
      "outputs": [
        {
          "output_type": "stream",
          "name": "stdout",
          "text": [
            "4.627701420704335e-05\n",
            "1.5425671402347783e-05\n",
            "Label predicted of string 0:+\n",
            "0.00010797969981643449\n",
            "0.00010797969981643449\n",
            "Label predicted of string 1:-\n"
          ]
        }
      ]
    },
    {
      "cell_type": "code",
      "source": [
        "from sklearn.feature_extraction.text import CountVectorizer\n",
        "from sklearn.preprocessing import LabelEncoder\n",
        "from sklearn.naive_bayes import MultinomialNB\n",
        "\n",
        "feature_vectorizer = CountVectorizer()\n",
        "X_train_feature = feature_vectorizer.fit_transform([s[0] for s in train])\n",
        "X_test_feature = [feature_vectorizer.transform([test[i]]) for i in range(len(test))]\n"
      ],
      "metadata": {
        "id": "EApZIwdjMTLW"
      },
      "execution_count": 196,
      "outputs": []
    },
    {
      "cell_type": "code",
      "source": [
        "test[0]"
      ],
      "metadata": {
        "colab": {
          "base_uri": "https://localhost:8080/",
          "height": 35
        },
        "id": "nqYqy2PUNhBn",
        "outputId": "2721601a-62f3-4c33-ea3a-25d4b5a38234"
      },
      "execution_count": 197,
      "outputs": [
        {
          "output_type": "execute_result",
          "data": {
            "text/plain": [
              "'sản_phẩm A khá tốt.'"
            ],
            "application/vnd.google.colaboratory.intrinsic+json": {
              "type": "string"
            }
          },
          "metadata": {},
          "execution_count": 197
        }
      ]
    },
    {
      "cell_type": "code",
      "source": [
        "y_train = [s[1] for s in train]\n",
        "le = LabelEncoder()\n",
        "y_train_encoded = le.fit_transform(y_train)"
      ],
      "metadata": {
        "id": "mbJoZgW9M7uZ"
      },
      "execution_count": 198,
      "outputs": []
    },
    {
      "cell_type": "code",
      "source": [
        "model=MultinomialNB()\n",
        "model.fit(X_train_feature,y_train_encoded)\n"
      ],
      "metadata": {
        "colab": {
          "base_uri": "https://localhost:8080/",
          "height": 75
        },
        "id": "IVX2n58RM_RW",
        "outputId": "cdbb3a6f-2181-429e-98ca-023992231a3e"
      },
      "execution_count": 199,
      "outputs": [
        {
          "output_type": "execute_result",
          "data": {
            "text/plain": [
              "MultinomialNB()"
            ],
            "text/html": [
              "<style>#sk-container-id-9 {color: black;background-color: white;}#sk-container-id-9 pre{padding: 0;}#sk-container-id-9 div.sk-toggleable {background-color: white;}#sk-container-id-9 label.sk-toggleable__label {cursor: pointer;display: block;width: 100%;margin-bottom: 0;padding: 0.3em;box-sizing: border-box;text-align: center;}#sk-container-id-9 label.sk-toggleable__label-arrow:before {content: \"▸\";float: left;margin-right: 0.25em;color: #696969;}#sk-container-id-9 label.sk-toggleable__label-arrow:hover:before {color: black;}#sk-container-id-9 div.sk-estimator:hover label.sk-toggleable__label-arrow:before {color: black;}#sk-container-id-9 div.sk-toggleable__content {max-height: 0;max-width: 0;overflow: hidden;text-align: left;background-color: #f0f8ff;}#sk-container-id-9 div.sk-toggleable__content pre {margin: 0.2em;color: black;border-radius: 0.25em;background-color: #f0f8ff;}#sk-container-id-9 input.sk-toggleable__control:checked~div.sk-toggleable__content {max-height: 200px;max-width: 100%;overflow: auto;}#sk-container-id-9 input.sk-toggleable__control:checked~label.sk-toggleable__label-arrow:before {content: \"▾\";}#sk-container-id-9 div.sk-estimator input.sk-toggleable__control:checked~label.sk-toggleable__label {background-color: #d4ebff;}#sk-container-id-9 div.sk-label input.sk-toggleable__control:checked~label.sk-toggleable__label {background-color: #d4ebff;}#sk-container-id-9 input.sk-hidden--visually {border: 0;clip: rect(1px 1px 1px 1px);clip: rect(1px, 1px, 1px, 1px);height: 1px;margin: -1px;overflow: hidden;padding: 0;position: absolute;width: 1px;}#sk-container-id-9 div.sk-estimator {font-family: monospace;background-color: #f0f8ff;border: 1px dotted black;border-radius: 0.25em;box-sizing: border-box;margin-bottom: 0.5em;}#sk-container-id-9 div.sk-estimator:hover {background-color: #d4ebff;}#sk-container-id-9 div.sk-parallel-item::after {content: \"\";width: 100%;border-bottom: 1px solid gray;flex-grow: 1;}#sk-container-id-9 div.sk-label:hover label.sk-toggleable__label {background-color: #d4ebff;}#sk-container-id-9 div.sk-serial::before {content: \"\";position: absolute;border-left: 1px solid gray;box-sizing: border-box;top: 0;bottom: 0;left: 50%;z-index: 0;}#sk-container-id-9 div.sk-serial {display: flex;flex-direction: column;align-items: center;background-color: white;padding-right: 0.2em;padding-left: 0.2em;position: relative;}#sk-container-id-9 div.sk-item {position: relative;z-index: 1;}#sk-container-id-9 div.sk-parallel {display: flex;align-items: stretch;justify-content: center;background-color: white;position: relative;}#sk-container-id-9 div.sk-item::before, #sk-container-id-9 div.sk-parallel-item::before {content: \"\";position: absolute;border-left: 1px solid gray;box-sizing: border-box;top: 0;bottom: 0;left: 50%;z-index: -1;}#sk-container-id-9 div.sk-parallel-item {display: flex;flex-direction: column;z-index: 1;position: relative;background-color: white;}#sk-container-id-9 div.sk-parallel-item:first-child::after {align-self: flex-end;width: 50%;}#sk-container-id-9 div.sk-parallel-item:last-child::after {align-self: flex-start;width: 50%;}#sk-container-id-9 div.sk-parallel-item:only-child::after {width: 0;}#sk-container-id-9 div.sk-dashed-wrapped {border: 1px dashed gray;margin: 0 0.4em 0.5em 0.4em;box-sizing: border-box;padding-bottom: 0.4em;background-color: white;}#sk-container-id-9 div.sk-label label {font-family: monospace;font-weight: bold;display: inline-block;line-height: 1.2em;}#sk-container-id-9 div.sk-label-container {text-align: center;}#sk-container-id-9 div.sk-container {/* jupyter's `normalize.less` sets `[hidden] { display: none; }` but bootstrap.min.css set `[hidden] { display: none !important; }` so we also need the `!important` here to be able to override the default hidden behavior on the sphinx rendered scikit-learn.org. See: https://github.com/scikit-learn/scikit-learn/issues/21755 */display: inline-block !important;position: relative;}#sk-container-id-9 div.sk-text-repr-fallback {display: none;}</style><div id=\"sk-container-id-9\" class=\"sk-top-container\"><div class=\"sk-text-repr-fallback\"><pre>MultinomialNB()</pre><b>In a Jupyter environment, please rerun this cell to show the HTML representation or trust the notebook. <br />On GitHub, the HTML representation is unable to render, please try loading this page with nbviewer.org.</b></div><div class=\"sk-container\" hidden><div class=\"sk-item\"><div class=\"sk-estimator sk-toggleable\"><input class=\"sk-toggleable__control sk-hidden--visually\" id=\"sk-estimator-id-9\" type=\"checkbox\" checked><label for=\"sk-estimator-id-9\" class=\"sk-toggleable__label sk-toggleable__label-arrow\">MultinomialNB</label><div class=\"sk-toggleable__content\"><pre>MultinomialNB()</pre></div></div></div></div></div>"
            ]
          },
          "metadata": {},
          "execution_count": 199
        }
      ]
    },
    {
      "cell_type": "code",
      "source": [
        "for i in range(len(test)):\n",
        "  y_pred=model.predict(X_test_feature[i])\n",
        "  print(f'Predicted for string {i}:{le.inverse_transform(y_pred)}')"
      ],
      "metadata": {
        "colab": {
          "base_uri": "https://localhost:8080/"
        },
        "id": "9UAY3g3yNETl",
        "outputId": "c6b5f21d-cfcc-467e-a061-61a1f4fd7ce2"
      },
      "execution_count": 205,
      "outputs": [
        {
          "output_type": "stream",
          "name": "stdout",
          "text": [
            "Predicted for string 0:['+']\n",
            "Predicted for string 1:['+']\n"
          ]
        }
      ]
    },
    {
      "cell_type": "code",
      "source": [],
      "metadata": {
        "id": "-SmZYPitOW7b"
      },
      "execution_count": null,
      "outputs": []
    }
  ]
}